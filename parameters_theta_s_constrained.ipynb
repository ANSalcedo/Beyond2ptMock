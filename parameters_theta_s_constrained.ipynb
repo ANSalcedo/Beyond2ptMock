{
 "cells": [
  {
   "cell_type": "code",
   "execution_count": 1,
   "id": "240cb1f4",
   "metadata": {},
   "outputs": [],
   "source": [
    "import numpy as np\n",
    "from classy import Class"
   ]
  },
  {
   "cell_type": "markdown",
   "id": "02950aa4",
   "metadata": {},
   "source": [
    "### Evaluate derived parameters $h$, $\\sigma_8$ using _Plank18_ value for $\\theta_*$"
   ]
  },
  {
   "cell_type": "code",
   "execution_count": 3,
   "id": "2b392b14",
   "metadata": {},
   "outputs": [
    {
     "name": "stdout",
     "output_type": "stream",
     "text": [
      "om_b, om_c, A_s, n_s =  [2.2370e-02 1.2000e-01 2.1791e-09 9.0490e-01]\n",
      "h =  0.6735945\n",
      "sigma_8 =  0.80790416541136\n"
     ]
    }
   ],
   "source": [
    "def derived_parameters(p):\n",
    "    #set parameters to configure CLASS computations\n",
    "    params = {\n",
    "        'omega_b': p[0],\n",
    "        'omega_cdm': p[1],\n",
    "        'A_s': p[2], \n",
    "        'n_s': p[3], \n",
    "        'N_ur': 2.0328,\n",
    "        'N_ncdm' : 1.0,\n",
    "        'omega_ncdm' : 0.0006442,\n",
    "        '100*theta_s' : 1.041533, #from Summit paper\n",
    "        'recombination' : 'HyRec',\n",
    "        'tau_reio' : 0.0544,\n",
    "        'non linear' : 'halofit',#option for computing non-linear power spectum\n",
    "        'P_k_max_1/Mpc':10.0,\n",
    "        'output': 'mPk' #which quantities we want CLASS to compute\n",
    "    }\n",
    "    #initialize Class instance and set parameters\n",
    "    cosmo = Class()\n",
    "    cosmo.set(params)\n",
    "    cosmo.compute()\n",
    "    h = cosmo.h()\n",
    "    sigma_8 = cosmo.sigma(8/cosmo.h(),0)\n",
    "    return h, sigma_8\n",
    "\n",
    "#as a cross-check, try to derive h, sigma_8 for abacus_cosm132\n",
    "p = np.array([0.02237, 1.2000e-01, 2.1791e-09, 9.0490e-01])\n",
    "print(\"om_b, om_c, A_s, n_s = \", p)\n",
    "h,sigma_8 = derived_parameters(p)\n",
    "print(\"h = \",h) #should be 0.6736\n",
    "print(\"sigma_8 = \",sigma_8) #should be 0.808189 \n"
   ]
  },
  {
   "cell_type": "markdown",
   "id": "93d2f692",
   "metadata": {},
   "source": [
    "<span style=\"color:blue\"> *3e-4 fractional difference in $\\sigma_8$ to $\\text{abacus_cosm132}$, negligible compared to expectd sensitivity.*</span>"
   ]
  },
  {
   "cell_type": "markdown",
   "id": "21370cf3",
   "metadata": {},
   "source": [
    "### Abacus Summit Parameter range"
   ]
  },
  {
   "cell_type": "code",
   "execution_count": 3,
   "id": "84e81cd3",
   "metadata": {},
   "outputs": [],
   "source": [
    "# johannes' code for Summit cosmology range\n",
    "from scipy.linalg.lapack import dpotrf, dpotri\n",
    "\n",
    "def invert_symmetric_positive_semidefinite_matrix(m):\n",
    "    r\"\"\"Invert a symmetric positive sem-definite matrix. This function is\n",
    "    faster than numpy.linalg.inv but does not work for arbitrary matrices.\n",
    "    Attributes\n",
    "    ----------\n",
    "    m : numpy.ndarray\n",
    "        Matrix to be inverted.\n",
    "    Returns\n",
    "    -------\n",
    "    m_inv : numpy.ndarray\n",
    "        Inverse of the matrix.\n",
    "    \"\"\"\n",
    "\n",
    "    m_inv = dpotri(dpotrf(m, False, False)[0])[0]\n",
    "    m_inv = np.triu(m_inv) + np.triu(m_inv, k=1).T\n",
    "    return m_inv\n",
    "\n",
    "\n",
    "def minimum_volume_enclosing_ellipsoid(points, tol=0, max_iterations=1000):\n",
    "    r\"\"\"Find an approximation to the minimum bounding ellipsoid to:math:`m`\n",
    "    points in :math:`n`-dimensional space using the Khachiyan algorithm.\n",
    "    This function is based on\n",
    "    http://citeseerx.ist.psu.edu/viewdoc/summary?doi=10.1.1.116.7691 but\n",
    "    implemented independently of the corresponding MATLAP implementation or\n",
    "    other Python ports of the MATLAP code.\n",
    "    Attributes\n",
    "    ----------\n",
    "    points : numpy.ndarray with shape (m, n)\n",
    "        A 2-D array where each row represents a point.\n",
    "    Returns\n",
    "    -------\n",
    "    c : numpy.ndarray\n",
    "        The position of the ellipsoid.\n",
    "    A : numpy.ndarray\n",
    "        The bounds of the ellipsoid in matrix form, i.e.\n",
    "        :math:`(x - c)^T A (x - c) \\leq 1`.\n",
    "    \"\"\"\n",
    "\n",
    "    m, n = points.shape\n",
    "    q = np.append(points, np.ones(shape=(m, 1)), axis=1)\n",
    "    u = np.repeat(1.0 / m, m)\n",
    "    q_outer = np.array([np.outer(q_i, q_i) for q_i in q])\n",
    "    e = np.diag(np.ones(m))\n",
    "\n",
    "    for i in range(max_iterations):\n",
    "        if i % 1000 == 0:\n",
    "            v = np.einsum('ji,j,jk', q, u, q)\n",
    "        g = np.einsum('ijk,jk', q_outer,\n",
    "                      invert_symmetric_positive_semidefinite_matrix(v))\n",
    "        j = np.argmax(g)\n",
    "        d_u = e[j] - u\n",
    "        a = (g[j] - (n + 1)) / ((n + 1) * (g[j] - 1))\n",
    "        shift = np.linalg.norm(a * d_u)\n",
    "        v = v * (1 - a) + a * q_outer[j]\n",
    "        u = u + a * d_u\n",
    "        if shift <= tol:\n",
    "            break\n",
    "\n",
    "    c = np.einsum('i,ij', u, points)\n",
    "    A_inv = (np.einsum('ji,j,jk', points, u, points) - np.outer(c, c)) * n\n",
    "    A = np.linalg.inv(A_inv)\n",
    "\n",
    "    scale = np.amax(np.einsum('...i,ij,...j', points - c, A, points - c))\n",
    "    A /= scale\n",
    "\n",
    "    return c, A\n",
    "#read in omega_b, omega_cdm, A_s, n_s of summit cosmology grid\n",
    "summit_cosmology_table = np.genfromtxt(\"summit_cosmologies.txt\",delimiter=',')[:,[2,3,5,6]]\n",
    "summit_h = np.genfromtxt(\"summit_cosmologies.txt\",delimiter=',')[:,[4]]\n",
    "# you can now draw the envelope with this\n",
    "prior_c, prior_A = minimum_volume_enclosing_ellipsoid(summit_cosmology_table)\n",
    "\n",
    "# check if a new parameter set p is within this envelope\n",
    "def check_summit_range(p, prior_c, prior_A):\n",
    "    return np.einsum('...i,ij,...j', p - prior_c, prior_A, p - prior_c) <= 1"
   ]
  },
  {
   "cell_type": "markdown",
   "id": "9038b9e5",
   "metadata": {},
   "source": [
    "### Generate parameter point within the range of all emulators\n",
    "Draw $\\omega_b,\\omega_c, A_s, n_s$ within $\\text{aemulus-}\\nu$ and $\\text{Summit}$ ranges, then calculate derived parameters and verify that the point is within h-range of $\\text{aemulus-}\\nu$ and within five-parameter range of $\\text{BACCO}$ and $\\text{Quijote}$."
   ]
  },
  {
   "cell_type": "code",
   "execution_count": 4,
   "id": "b9048005",
   "metadata": {},
   "outputs": [
    {
     "name": "stdout",
     "output_type": "stream",
     "text": [
      "[0.021755216490503833, 0.11759420467151259, 1.6894494110020212e-09, 0.9724531807330381, 0.674202, 0.7237628139510479]\n"
     ]
    }
   ],
   "source": [
    "def draw_4params_aemulus():\n",
    "    r''' draw om_b, om_c, A_s, n_s within aemulus-𝜈 range\n",
    "    return parameter vector with order [om_b, om_c, A_s, n_s]\n",
    "    NOTE: need to check that theta_*-derived h is in aemulus range later!!\n",
    "    '''\n",
    "    #draw omega_b, omega_c within aemulus-𝜈 range\n",
    "    om_b = np.random.uniform(low = 0.0198, high =  0.0248)\n",
    "    om_c = np.random.uniform(low = 0.08, high =   0.16)\n",
    "    #draw A_s, n_s within aemulus-𝜈 range \n",
    "    A_s = np.random.uniform(low = 1.1, high =  3.1)*1.e-9\n",
    "    n_s = np.random.uniform(low = 0.93, high =   1.01)\n",
    "    return np.array([om_b,om_c,A_s,n_s])\n",
    "\n",
    "def p_in_aemulus_summit():\n",
    "    r'''\n",
    "    draw random p = [om_b, om_c, A_s, n_s] within aemulus + Abacus summit ranges\n",
    "    '''\n",
    "    p = draw_4params_aemulus()\n",
    "    while (check_summit_range(p, prior_c, prior_A) == False):\n",
    "        p = draw_4params_aemulus()\n",
    "    return p\n",
    "\n",
    "def check_BACCO_range(p, h,sigma_8):\n",
    "    r'''check whether p and derived parameters are in BACCO range\n",
    "    '''\n",
    "    #Omega_m: BACCO narrower than Quijote\n",
    "    O_m = (p[0]+p[1]+0.0006442)/h**2\n",
    "    if (O_m < 0.23): \n",
    "        return False\n",
    "    if (O_m > 0.4): \n",
    "        return False\n",
    "    #Omega_b: BACCO narrower than Quijote\n",
    "    O_b = (p[0])/h**2\n",
    "    if (O_b <0.04):\n",
    "        return False\n",
    "    if (O_b> 0.06):\n",
    "        return False\n",
    "    #sigma_8: BACCO narrower than Quijote\n",
    "    if (sigma_8 < 0.65):\n",
    "        return False\n",
    "    if (sigma_8 > 0.9):\n",
    "        return False\n",
    "    #H0: BACCO narrower than aemulus-𝜈 and Quijote\n",
    "    if (h < 0.6):\n",
    "        return False\n",
    "    if (h > 0.8):\n",
    "        return False\n",
    "    return True\n",
    "\n",
    "def p_in_range():\n",
    "    p = p_in_aemulus_summit()\n",
    "    h,sigma_8 = derived_parameters(p)\n",
    "    while (check_BACCO_range(p,h,sigma_8) == False):\n",
    "        p = p_in_aemulus_summit()\n",
    "        h,sigma_8 = derived_parameters(p)\n",
    "    return [p[0],p[1],p[2],p[3], h, sigma_8]\n",
    "    \n",
    "six_params = p_in_range()\n",
    "print(six_params)"
   ]
  },
  {
   "cell_type": "code",
   "execution_count": null,
   "id": "13c13822",
   "metadata": {},
   "outputs": [],
   "source": []
  },
  {
   "cell_type": "code",
   "execution_count": null,
   "id": "00bed570",
   "metadata": {},
   "outputs": [],
   "source": []
  }
 ],
 "metadata": {
  "kernelspec": {
   "display_name": "Python 3 (ipykernel)",
   "language": "python",
   "name": "python3"
  },
  "language_info": {
   "codemirror_mode": {
    "name": "ipython",
    "version": 3
   },
   "file_extension": ".py",
   "mimetype": "text/x-python",
   "name": "python",
   "nbconvert_exporter": "python",
   "pygments_lexer": "ipython3",
   "version": "3.10.7"
  }
 },
 "nbformat": 4,
 "nbformat_minor": 5
}
